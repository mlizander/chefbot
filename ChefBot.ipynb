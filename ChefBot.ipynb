{
  "nbformat": 4,
  "nbformat_minor": 0,
  "metadata": {
    "colab": {
      "provenance": [],
      "authorship_tag": "ABX9TyNPtNFCcJXibN4qtoTkcpH5",
      "include_colab_link": true
    },
    "kernelspec": {
      "name": "python3",
      "display_name": "Python 3"
    },
    "language_info": {
      "name": "python"
    }
  },
  "cells": [
    {
      "cell_type": "markdown",
      "metadata": {
        "id": "view-in-github",
        "colab_type": "text"
      },
      "source": [
        "<a href=\"https://colab.research.google.com/github/mlizander/chefbot/blob/main/ChefBot.ipynb\" target=\"_parent\"><img src=\"https://colab.research.google.com/assets/colab-badge.svg\" alt=\"Open In Colab\"/></a>"
      ]
    },
    {
      "cell_type": "code",
      "source": [
        "#Instalando o SDK do Google\n",
        "!pip install -q -U google-generativeai"
      ],
      "metadata": {
        "id": "65NZyCqoHVHb"
      },
      "execution_count": 5,
      "outputs": []
    },
    {
      "cell_type": "code",
      "execution_count": 14,
      "metadata": {
        "id": "rn9CCalYtiV7",
        "colab": {
          "base_uri": "https://localhost:8080/",
          "height": 677
        },
        "outputId": "46da4041-0396-4ee0-bad6-39e847e918c3"
      },
      "outputs": [
        {
          "output_type": "stream",
          "name": "stdout",
          "text": [
            "Bem-vindo, chef! 👨‍🍳 Diga-me o que você tem na despensa e vamos criar algo delicioso.\n",
            "Insira somente os ingredientes ou digite sair para encerrar: limão, farinha de trigo, fermento, leite \n",
            "----------------------------------------\n",
            "Deixe-me pensar... 🤔 Já sei! Essa receita vai te surpreender!\n",
            "----------------------------------------\n",
            "**Pão de Limão Caseiro**\n",
            "\n",
            "**Ingredientes:**\n",
            "\n",
            "* 1 xícara de farinha de trigo\n",
            "* 1 colher de chá de fermento em pó\n",
            "* 1/2 colher de chá de sal\n",
            "* 1/4 xícara de açúcar\n",
            "* 1 ovo\n",
            "* 1/2 xícara de leite\n",
            "* Raspas de 1 limão\n",
            "\n",
            "**Instruções:**\n",
            "\n",
            "1. Pré-aqueça o forno a 180°C. Unte e enfarinhe uma forma de pão de 23x13 cm.\n",
            "2. Em uma tigela média, misture a farinha, o fermento, o sal e o açúcar.\n",
            "3. Em uma tigela separada, misture o ovo, o leite e as raspas de limão.\n",
            "4. Adicione os ingredientes úmidos aos ingredientes secos e misture até formar uma massa macia.\n",
            "5. Despeje a massa na forma de pão preparada e asse por 25-30 minutos, ou até que um palito inserido no centro saia limpo.\n",
            "6. Deixe o pão esfriar na forma por 10 minutos antes de desenformar e deixar esfriar completamente sobre uma grade.\n",
            "\n",
            "**Dicas:**\n",
            "\n",
            "* Para um pão mais doce, adicione mais açúcar a gosto.\n",
            "* Para um pão mais cítrico, use mais raspas de limão ou adicione 1 colher de sopa de suco de limão à massa.\n",
            "* Sirva o pão de limão quente com manteiga ou geléia. \n",
            "\n",
            "\n",
            "----------------------------------------\n",
            "Que tal uma sobremesa? 🍨 Me conte o que você tem e eu te dou a receita perfeita.\n",
            "Insira somente os ingredientes ou digite sair para encerrar: sair\n",
            "----------------------------------------\n",
            "Você é um chef incrível! 🌟 Continue brilhando na cozinha. Volte sempre que precisar de uma ajudinha.\n"
          ]
        }
      ],
      "source": [
        "\n",
        "#Imports de bibliotecas\n",
        "import requests\n",
        "import random\n",
        "import google.generativeai as genai\n",
        "\n",
        "#função que alimenta as listas de mensagens com o conteúdos dos JSON\n",
        "def busca_dados_json(url):\n",
        "  data = requests.get(url)\n",
        "  return data.json()\n",
        "\n",
        "# traz os dados da saudação do JSON\n",
        "saudacoes = busca_dados_json('https://raw.githubusercontent.com/mlizander/chefbot/main/saudacao.json')\n",
        "incentivos = busca_dados_json('https://raw.githubusercontent.com/mlizander/chefbot/main/incentivo.json')\n",
        "despedidas_sem_receita = busca_dados_json('https://raw.githubusercontent.com/mlizander/chefbot/main/depedida_sem_receita.json')\n",
        "despedidas_uma_receita = busca_dados_json('https://raw.githubusercontent.com/mlizander/chefbot/main/despedida_uma_receita.json')\n",
        "despedidas_mais_receitas = busca_dados_json('https://raw.githubusercontent.com/mlizander/chefbot/main/despedida_mais_receitas.json')\n",
        "texto_nao_mandou_lista = busca_dados_json('https://raw.githubusercontent.com/mlizander/chefbot/main/nao_mandou_lista.json')\n",
        "buscando = busca_dados_json('https://raw.githubusercontent.com/mlizander/chefbot/main/buscando.json')\n",
        "\n",
        "#inicia a variável de controle de quantas receitas esse chat já gerou\n",
        "count_receitas = 0\n",
        "model_name = \"gemini-1.0-pro\"\n",
        "configurations = {\n",
        "  \"candidate_count\": 1,\n",
        "  \"temperature\": 1,\n",
        "}\n",
        "\n",
        "#inicia a API do Google Gemini\n",
        "from google.colab import userdata\n",
        "api_key = userdata.get('SECRET_KEY')\n",
        "genai.configure(api_key=api_key)\n",
        "\n",
        "chefbot = genai.GenerativeModel(model_name=model_name,\n",
        "                                generation_config=configurations)\n",
        "\n",
        "chat = chefbot.start_chat(history=[])\n",
        "\n",
        "has_fail = 0\n",
        "prompt = \"##\"\n",
        "\n",
        "#roda o laço principal, até que o usuário informe sair no chat\n",
        "while prompt.lower() != \"sair\":\n",
        "  #verifica se houve alguma falha, por exemplo, o usuário digitou algo que não era uma lista, ou a lista informada não possui nenhum item de culinária\n",
        "  if (has_fail == 0):\n",
        "    #chama a mensagem de saudação (caso seja a primeira receita a ser pedida) ou de incentivo para o que o usuário obtenha mais receitas (caso já tenha obtido alguma receita nessa sessão)\n",
        "    if (count_receitas == 0):\n",
        "      print(random.choice(saudacoes)[\"saudacao\"])\n",
        "    else:\n",
        "      print(random.choice(incentivos)[\"incentivo\"])\n",
        "  has_fail = 0\n",
        "  #solicita os ingredientes (prompt)\n",
        "  prompt = input('Insira somente os ingredientes ou digite sair para encerrar: ')\n",
        "  if (prompt.lower() != \"sair\"):\n",
        "    #envia o prompt para o Google Gemini, perguntando ao mesmo se o que foi digitado se trata de uma lista\n",
        "    message = f'considere o texto a seguir: {prompt}.\\n\\n Responda apenas com sim ou não: o texto informado é uma lista?'\n",
        "    response = chat.send_message(message)\n",
        "    if (response.text.lower() == \"sim\"):\n",
        "        #Pergunta ao Google Gemini se a lista contém ingredientes de culinária, mesmo que tenha itens que não sejam de culinárias (tratamento de discrepâncias)\n",
        "        message = 'Responda apenas com sim ou não: a lista enviada possui ingredientes de culinária?'\n",
        "        possui_itens = chat.send_message(message)\n",
        "        if (possui_itens.text.lower() == \"sim\"):\n",
        "          #Uma vez que tem ingredientes de culinária, solicita ao Google Gemini uma receita que use os ingredientes, ainda que não use todos\n",
        "          message = 'Aja, então, como um chef de cozinha e considere que esses são os ingredientes que possuo. Crie uma receita que eu possa fazer com esses ingredientes. Não há a necessidade de se usar todos os ingredientes da lista.'\n",
        "          receita = chat.send_message(message)\n",
        "          print('----------------------------------------')\n",
        "          #Envia uma mensagem na tela como se o chef estivesse buscando a receita e encontrando\n",
        "          print(random.choice(buscando)[\"resposta\"])\n",
        "          print('----------------------------------------')\n",
        "          #exibe a receita encontrada\n",
        "          print(receita.text, '\\n\\n')\n",
        "          print('----------------------------------------')\n",
        "          count_receitas = count_receitas + 1\n",
        "        else:\n",
        "          #exibe um texto de que o usuário não mandou uma lista ou mandou uma lista de itens que não são ingredientes de culinária\n",
        "          print(random.choice(texto_nao_mandou_lista)[\"resposta\"])\n",
        "          has_fail = 1\n",
        "    else:\n",
        "      #exibe um texto de que o usuário não mandou uma lista ou mandou uma lista de itens que não são ingredientes de culinária\n",
        "      print(random.choice(texto_nao_mandou_lista)[\"resposta\"])\n",
        "      has_fail = 1\n",
        "\n",
        "#Encerramento. O usuário informou sair. Exibe mensagem de acordo com o que o usuário obteve. Mensagens diferentes para quem não obteve nenhuma receita, uma ou mais de uma.\n",
        "print('----------------------------------------')\n",
        "if (count_receitas == 0):\n",
        "  print(random.choice(despedidas_sem_receita)[\"despedida\"])\n",
        "else:\n",
        "  if (count_receitas == 1):\n",
        "    print(random.choice(despedidas_uma_receita)[\"despedida\"])\n",
        "  else:\n",
        "    print(random.choice(despedidas_mais_receitas)[\"despedida\"])\n",
        "\n"
      ]
    }
  ]
}